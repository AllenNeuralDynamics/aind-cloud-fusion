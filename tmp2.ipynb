{
 "cells": [
  {
   "cell_type": "code",
   "execution_count": null,
   "metadata": {},
   "outputs": [],
   "source": [
    "import aind_cloud_fusion.blend as blend\n",
    "import aind_cloud_fusion.fusion as fusion\n",
    "import aind_cloud_fusion.geometry as geometry\n",
    "import aind_cloud_fusion.io as io"
   ]
  },
  {
   "cell_type": "code",
   "execution_count": null,
   "metadata": {},
   "outputs": [],
   "source": [
    "# Need a custom dataset. \n",
    "class ExaspimTestDataset(io.Dataset):\n",
    "    @property\n",
    "    def tile_volumes_zyx(self) -> dict[int, io.LazyArray]:\n",
    "        # Assuming Dataset 'exaSPIM_659146' is mounted. \n",
    "        tile_1_path = '/root/capsule/data/exaSPIM_659146_2023-11-10_14-02-06/SPIM.ome.zarr/tile_x_0002_y_0001_z_0000_ch_488.zarr/5'\n",
    "        tile_2_path = '/root/capsule/data/exaSPIM_659146_2023-11-10_14-02-06/SPIM.ome.zarr/tile_x_0002_y_0002_z_0000_ch_488.zarr/5'\n",
    "\n",
    "        tile_arrays: dict[int, io.LazyArray] = {}\n",
    "        for tile_id, t_path in enumerate([tile_1_path, tile_2_path]):\n",
    "            tile_zarr = da.from_zarr(t_path)\n",
    "            tile_zarr_zyx = tile_zarr[0, 0, :, :, :]\n",
    "            tile_arrays[tile_id] = ZarrArray(tile_zarr_zyx)\n",
    "\n",
    "        return tile_arrays\n",
    "\n",
    "    @property\n",
    "    def tile_transforms_zyx(self) -> dict[int, list[geometry.Transform]]:\n",
    "        tile_transforms: dict[int, list[geometry.Transform]] = {}        \n",
    "        tile_transforms[0] = geometry.Affine(np.array([[1., 0., 0., 0.], \n",
    "                                                       [0., 1., 0., 0.],\n",
    "                                                       [0., 0., 1., 0.]]))\n",
    "        tile_transforms[1] = geometry.Affine(np.array([[1., 0., 0., 0.], \n",
    "                                                       [0., 1., 0., 281.25], \n",
    "                                                       [0., 0., 1., 0.]]))\n",
    "        return tile_transforms\n",
    "\n",
    "    @property\n",
    "    def tile_resolution_zyx(self) -> tuple[float, float, float]:\n",
    "        return (1.0, 0.748, 0.748)\n"
   ]
  },
  {
   "cell_type": "code",
   "execution_count": null,
   "metadata": {},
   "outputs": [],
   "source": [
    "# Application Object: DATASET\n",
    "DATASET = ExaspimTestDataset()\n",
    "\n",
    "# Application Object: OUTPUT_PARAMS\n",
    "OUTPUT_PARAMS = io.OutputParameters(\n",
    "        path='fused_exaspim.zarr',\n",
    "        chunksize=(1, 1, 100, 100, 100),\n",
    "        resolution_zyx=(1.0, 0.748, 0.748),\n",
    ")\n",
    "\n",
    "# Application Object: RUNTIME PARAMS\n",
    "# (Fill worker cells later)\n",
    "RUNTIME_PARAMS = io.RuntimeParameters(\n",
    "        use_gpus=False,\n",
    "        devices=[torch.device(\"cpu\")],\n",
    "        pool_size=1\n",
    ")\n",
    "\n",
    "# Application Parameter: CELL_SIZE\n",
    "CELL_SIZE = [100, 100, 100]\n",
    "\n",
    "# Application Object: BLENDING_MODULE\n",
    "BLENDING_MODULE = blend.MaskedBlending()\n",
    "\n",
    "# Run fusion\n",
    "fusion.run_fusion(\n",
    "        DATASET,\n",
    "        OUTPUT_PARAMS,\n",
    "        RUNTIME_PARAMS,\n",
    "        CELL_SIZE,\n",
    "        POST_REG_TFMS,\n",
    "        BLENDING_MODULE,\n",
    ")"
   ]
  },
  {
   "cell_type": "code",
   "execution_count": null,
   "metadata": {},
   "outputs": [],
   "source": [
    "import matplotlib.pyplot as plt\n",
    "import zarr\n",
    "\n",
    "output_path = \"tmp/fused_in_x.zarr/0\"\n",
    "arr = zarr.open(output_path, mode=\"r\")\n",
    "fused_data = arr[0, 0, :, :, :]\n",
    "\n",
    "fused_data.shape\n",
    "\n",
    "plt.imshow(fused_data[:, 0, :])\n",
    "plt.show()"
   ]
  }
 ],
 "metadata": {
  "kernelspec": {
   "display_name": "base",
   "language": "python",
   "name": "python3"
  },
  "language_info": {
   "name": "python",
   "version": "3.9.12 (main, Apr  5 2022, 06:56:58) \n[GCC 7.5.0]"
  },
  "orig_nbformat": 4,
  "vscode": {
   "interpreter": {
    "hash": "d4d1e4263499bec80672ea0156c357c1ee493ec2b1c70f0acce89fc37c4a6abe"
   }
  }
 },
 "nbformat": 4,
 "nbformat_minor": 2
}
